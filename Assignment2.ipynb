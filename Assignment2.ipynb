{
  "nbformat": 4,
  "nbformat_minor": 0,
  "metadata": {
    "colab": {
      "provenance": [],
      "authorship_tag": "ABX9TyN7cgZ2gANEiCI2gYFN4TAv",
      "include_colab_link": true
    },
    "kernelspec": {
      "name": "python3",
      "display_name": "Python 3"
    },
    "language_info": {
      "name": "python"
    }
  },
  "cells": [
    {
      "cell_type": "markdown",
      "metadata": {
        "id": "view-in-github",
        "colab_type": "text"
      },
      "source": [
        "<a href=\"https://colab.research.google.com/github/CathyShalu/Assignment1/blob/main/Assignment2.ipynb\" target=\"_parent\"><img src=\"https://colab.research.google.com/assets/colab-badge.svg\" alt=\"Open In Colab\"/></a>"
      ]
    },
    {
      "cell_type": "code",
      "source": [
        "col_1=db[\"telephone_directory\"]"
      ],
      "metadata": {
        "id": "G5uVmULxwPtr"
      },
      "execution_count": null,
      "outputs": []
    },
    {
      "cell_type": "code",
      "source": [
        "print(\"Create a Directory Which Has Fields Like Name, Phone number, Place etc.,\")\n",
        "\n",
        "t = [\n",
        "     {\"unicode\":0, \"name\":\"cathy\", \"mobile\":9923457643, \"Place\":\"japan\", \"age\":30, \"category\":\"a\"},\n",
        "     {\"unicode\":1, \"name\":\"aldo\", \"mobile\":2435356789, \"Place\":\"tokyo\", \"age\":20, \"category\":\"b\"},\n",
        "     {\"unicode\":2, \"name\":\"zuriel\", \"mobile\":8765435675, \"Place\":\"tokyo\", \"age\":15, \"category\":\"c\"},\n",
        "     {\"unicode\":3, \"name\":\"leema\", \"mobile\":2387498885, \"Place\":\"hirosima\", \"age\":31, \"category\":\"a\"},\n",
        "     {\"unicode\":4, \"name\":\"paul\", \"mobile\":8765727282, \"Place\":\"nagasaki\", \"age\":16, \"category\":\"b\"},\n",
        "     {\"unicode\":5, \"name\":\"ash\", \"mobile\":92242572567, \"Place\":\"parrot town\", \"age\":18, \"category\":\"c\"},\n",
        "     {\"unicode\":6, \"name\":\"kenny\", \"mobile\":5464334666, \"Place\":\"kasukabe\", \"age\":6, \"category\":\"c\"},\n",
        "     {\"unicode\":7, \"name\":\"jeffrey\", \"mobile\":8827377624, \"Place\":\"newyork\", \"age\":53, \"category\":\"c\"},\n",
        "     {\"unicode\":8, \"name\":\"veena\", \"mobile\":5444786589, \"Place\":\"queens\", \"age\": 120, \"category\":\"b\"},\n",
        "     {\"unicode\":9, \"name\":\"avi\", \"mobile\":9876768643, \"Place\":\"asgard\", \"age\":1002, \"category\":\"c\"}\n",
        "     ]"
      ],
      "metadata": {
        "colab": {
          "base_uri": "https://localhost:8080/"
        },
        "id": "LyZe0CDMuZfK",
        "outputId": "9935b04d-4443-4047-df1b-1c599d64591b"
      },
      "execution_count": null,
      "outputs": [
        {
          "output_type": "stream",
          "name": "stdout",
          "text": [
            "Create a Directory Which Has Fields Like Name, Phone number, Place etc.,\n"
          ]
        }
      ]
    },
    {
      "cell_type": "code",
      "source": [
        "rec_1 = col_1[\"profile\"]\n",
        "\n",
        "rec_1.insert_many(t)"
      ],
      "metadata": {
        "colab": {
          "base_uri": "https://localhost:8080/"
        },
        "id": "HIeeFoAtumVq",
        "outputId": "c14d2447-5f6d-4a1a-ac86-272ddacd95bc"
      },
      "execution_count": null,
      "outputs": [
        {
          "output_type": "execute_result",
          "data": {
            "text/plain": [
              "<pymongo.results.InsertManyResult at 0x7f9f6c5d1b20>"
            ]
          },
          "metadata": {},
          "execution_count": 9
        }
      ]
    },
    {
      "cell_type": "code",
      "source": [
        "rec_1.insert_one({\"unicode\":10, \"name\":\"thanos\", \"mobile\":7876517763, \"Place\":\"chernobyl\", \"age\":1065, \"category\":\"c\"})"
      ],
      "metadata": {
        "colab": {
          "base_uri": "https://localhost:8080/"
        },
        "id": "hEKM7isXuqG2",
        "outputId": "5f030af6-b54d-4777-8772-372b5db71a71"
      },
      "execution_count": null,
      "outputs": [
        {
          "output_type": "execute_result",
          "data": {
            "text/plain": [
              "<pymongo.results.InsertOneResult at 0x7f9f71524730>"
            ]
          },
          "metadata": {},
          "execution_count": 10
        }
      ]
    },
    {
      "cell_type": "code",
      "source": [
        "for i in rec_1.find():\n",
        "  print(i)"
      ],
      "metadata": {
        "colab": {
          "base_uri": "https://localhost:8080/"
        },
        "id": "4I2fVSjius_N",
        "outputId": "d77d19db-c10c-4831-d5ab-93884b7c527d"
      },
      "execution_count": null,
      "outputs": [
        {
          "output_type": "stream",
          "name": "stdout",
          "text": [
            "{'_id': ObjectId('63a34219907e9e9bfb5b496f'), 'unicode': 0, 'name': 'cathy', 'mobile': 9923457643, 'Place': 'japan', 'age': 30, 'category': 'a'}\n",
            "{'_id': ObjectId('63a34219907e9e9bfb5b4970'), 'unicode': 1, 'name': 'aldo', 'mobile': 2435356789, 'Place': 'tokyo', 'age': 20, 'category': 'b'}\n",
            "{'_id': ObjectId('63a34219907e9e9bfb5b4971'), 'unicode': 2, 'name': 'zuriel', 'mobile': 8765435675, 'Place': 'tokyo', 'age': 15, 'category': 'c'}\n",
            "{'_id': ObjectId('63a34219907e9e9bfb5b4972'), 'unicode': 3, 'name': 'leema', 'mobile': 2387498885, 'Place': 'hirosima', 'age': 31, 'category': 'a'}\n",
            "{'_id': ObjectId('63a34219907e9e9bfb5b4973'), 'unicode': 4, 'name': 'paul', 'mobile': 8765727282, 'Place': 'nagasaki', 'age': 16, 'category': 'b'}\n",
            "{'_id': ObjectId('63a34219907e9e9bfb5b4974'), 'unicode': 5, 'name': 'ash', 'mobile': 92242572567, 'Place': 'parrot town', 'age': 18, 'category': 'c'}\n",
            "{'_id': ObjectId('63a34219907e9e9bfb5b4975'), 'unicode': 6, 'name': 'kenny', 'mobile': 5464334666, 'Place': 'kasukabe', 'age': 6, 'category': 'c'}\n",
            "{'_id': ObjectId('63a34219907e9e9bfb5b4976'), 'unicode': 7, 'name': 'jeffrey', 'mobile': 8827377624, 'Place': 'newyork', 'age': 53, 'category': 'c'}\n",
            "{'_id': ObjectId('63a34219907e9e9bfb5b4977'), 'unicode': 8, 'name': 'veena', 'mobile': 5444786589, 'Place': 'queens', 'age': 120, 'category': 'b'}\n",
            "{'_id': ObjectId('63a34219907e9e9bfb5b4978'), 'unicode': 9, 'name': 'avi', 'mobile': 9876768643, 'Place': 'asgard', 'age': 1002, 'category': 'c'}\n",
            "{'_id': ObjectId('63a34227907e9e9bfb5b4979'), 'unicode': 10, 'name': 'thanos', 'mobile': 7876517763, 'Place': 'chernobyl', 'age': 1065, 'category': 'c'}\n"
          ]
        }
      ]
    },
    {
      "cell_type": "code",
      "source": [
        "print(\"Query to Find The Profile Where Age is Greater Than 18\\n\")\n",
        "\n",
        "for i in rec_1.find( {\"age\":{\"$gt\":18} }, { '_id':0, \"name\":1, \"age\":1, \"unicode\":1 } ):\n",
        "  print(i)"
      ],
      "metadata": {
        "colab": {
          "base_uri": "https://localhost:8080/"
        },
        "id": "anHkg8kRuuvK",
        "outputId": "26c09b33-a19e-4317-dc95-8b81fad16ef5"
      },
      "execution_count": null,
      "outputs": [
        {
          "output_type": "stream",
          "name": "stdout",
          "text": [
            "Query to Find The Profile Where Age is Greater Than 18\n",
            "\n",
            "{'unicode': 0, 'name': 'cathy', 'age': 30}\n",
            "{'unicode': 1, 'name': 'aldo', 'age': 20}\n",
            "{'unicode': 3, 'name': 'leema', 'age': 31}\n",
            "{'unicode': 7, 'name': 'jeffrey', 'age': 53}\n",
            "{'unicode': 8, 'name': 'veena', 'age': 120}\n",
            "{'unicode': 9, 'name': 'avi', 'age': 1002}\n",
            "{'unicode': 10, 'name': 'thanos', 'age': 1065}\n"
          ]
        }
      ]
    },
    {
      "cell_type": "code",
      "source": [
        "print(\"Query to Find The Profile Where Age is Greater Than 18 and Category is c\\n\")\n",
        "\n",
        "for i in rec_1.find( { \"$and\": [ {\"age\":{\"$gt\":18} }, { 'category': 'c' } ] } , { '_id':0 } ):\n",
        "  print(i)"
      ],
      "metadata": {
        "colab": {
          "base_uri": "https://localhost:8080/"
        },
        "id": "KRecKOTuu0lG",
        "outputId": "653083ec-39de-465c-f992-b65d7d97e218"
      },
      "execution_count": null,
      "outputs": [
        {
          "output_type": "stream",
          "name": "stdout",
          "text": [
            "Query to Find The Profile Where Age is Greater Than 18 and Category is c\n",
            "\n",
            "{'unicode': 7, 'name': 'jeffrey', 'mobile': 8827377624, 'Place': 'newyork', 'age': 53, 'category': 'c'}\n",
            "{'unicode': 9, 'name': 'avi', 'mobile': 9876768643, 'Place': 'asgard', 'age': 1002, 'category': 'c'}\n",
            "{'unicode': 10, 'name': 'thanos', 'mobile': 7876517763, 'Place': 'chernobyl', 'age': 1065, 'category': 'c'}\n"
          ]
        }
      ]
    },
    {
      "cell_type": "code",
      "source": [
        "print(\"Query to Find The Profile Where Age is Greater Than 18 and Category is \\'a\\' and also Unicode Lessthan 4\\n\")\n",
        "\n",
        "for i in rec_1.find( { \"$or\": [ { \"$and\": [ {\"age\":{\"$gt\":18} }, { 'category': 'a' } ] }, { \"unicode\": { \"$lt\":4} } ] } , { '_id':0 } ):\n",
        "  print(i)"
      ],
      "metadata": {
        "colab": {
          "base_uri": "https://localhost:8080/"
        },
        "id": "T66Wygecu3jk",
        "outputId": "e0e79291-4d1e-44dd-82c0-162aa04acccb"
      },
      "execution_count": null,
      "outputs": [
        {
          "output_type": "stream",
          "name": "stdout",
          "text": [
            "Query to Find The Profile Where Age is Greater Than 18 and Category is 'a' and also Unicode Lessthan 4\n",
            "\n",
            "{'unicode': 0, 'name': 'cathy', 'mobile': 9923457643, 'Place': 'japan', 'age': 30, 'category': 'a'}\n",
            "{'unicode': 1, 'name': 'aldo', 'mobile': 2435356789, 'Place': 'tokyo', 'age': 20, 'category': 'b'}\n",
            "{'unicode': 2, 'name': 'zuriel', 'mobile': 8765435675, 'Place': 'tokyo', 'age': 15, 'category': 'c'}\n",
            "{'unicode': 3, 'name': 'leema', 'mobile': 2387498885, 'Place': 'hirosima', 'age': 31, 'category': 'a'}\n"
          ]
        }
      ]
    },
    {
      "cell_type": "code",
      "source": [
        "query = {\"age\" : {\"$lt\":18}}\n",
        "new_values = {\"$set\" : {'category' : \"c\", 'Place' : \"India\"}}\n",
        "\n",
        "rec_1.update_one(query, new_values)"
      ],
      "metadata": {
        "colab": {
          "base_uri": "https://localhost:8080/"
        },
        "id": "JTmjK86iu5wc",
        "outputId": "1bf4b146-0939-403f-bf4d-1340005d5b29"
      },
      "execution_count": null,
      "outputs": [
        {
          "output_type": "execute_result",
          "data": {
            "text/plain": [
              "<pymongo.results.UpdateResult at 0x7f9f6e853b80>"
            ]
          },
          "metadata": {},
          "execution_count": 15
        }
      ]
    },
    {
      "cell_type": "code",
      "source": [
        "for i in rec_1.find( { 'category': 'c' } , { '_id':0 } ):\n",
        "  print(i)"
      ],
      "metadata": {
        "colab": {
          "base_uri": "https://localhost:8080/"
        },
        "id": "dubsPQO4vBAw",
        "outputId": "58a17b62-38c1-4dfc-d7d6-6a7770818d88"
      },
      "execution_count": null,
      "outputs": [
        {
          "output_type": "stream",
          "name": "stdout",
          "text": [
            "{'unicode': 2, 'name': 'zuriel', 'mobile': 8765435675, 'Place': 'India', 'age': 15, 'category': 'c'}\n",
            "{'unicode': 5, 'name': 'ash', 'mobile': 92242572567, 'Place': 'parrot town', 'age': 18, 'category': 'c'}\n",
            "{'unicode': 6, 'name': 'kenny', 'mobile': 5464334666, 'Place': 'kasukabe', 'age': 6, 'category': 'c'}\n",
            "{'unicode': 7, 'name': 'jeffrey', 'mobile': 8827377624, 'Place': 'newyork', 'age': 53, 'category': 'c'}\n",
            "{'unicode': 9, 'name': 'avi', 'mobile': 9876768643, 'Place': 'asgard', 'age': 1002, 'category': 'c'}\n",
            "{'unicode': 10, 'name': 'thanos', 'mobile': 7876517763, 'Place': 'chernobyl', 'age': 1065, 'category': 'c'}\n"
          ]
        }
      ]
    },
    {
      "cell_type": "code",
      "source": [
        "query = { \"$and\": [ { \"category\" : \"c\" }, {'age': 1002 } ] }\n",
        "new_values = {\"$set\" : {'age' : 18}}\n",
        "\n",
        "rec_1.update_one(query, new_values)"
      ],
      "metadata": {
        "colab": {
          "base_uri": "https://localhost:8080/"
        },
        "id": "mFY7uQBDvCyH",
        "outputId": "4866c9e9-f348-4a51-eba7-8521d1a0e0c2"
      },
      "execution_count": null,
      "outputs": [
        {
          "output_type": "execute_result",
          "data": {
            "text/plain": [
              "<pymongo.results.UpdateResult at 0x7f9f70714460>"
            ]
          },
          "metadata": {},
          "execution_count": 17
        }
      ]
    },
    {
      "cell_type": "code",
      "source": [
        "for i in rec_1.find( { 'category': 'c' } , { '_id':0 } ):\n",
        "  print(i)"
      ],
      "metadata": {
        "colab": {
          "base_uri": "https://localhost:8080/"
        },
        "id": "7_9TEx6OvHKm",
        "outputId": "51183e19-4182-487c-df8a-ccd8b12d1b7a"
      },
      "execution_count": null,
      "outputs": [
        {
          "output_type": "stream",
          "name": "stdout",
          "text": [
            "{'unicode': 2, 'name': 'zuriel', 'mobile': 8765435675, 'Place': 'India', 'age': 15, 'category': 'c'}\n",
            "{'unicode': 5, 'name': 'ash', 'mobile': 92242572567, 'Place': 'parrot town', 'age': 18, 'category': 'c'}\n",
            "{'unicode': 6, 'name': 'kenny', 'mobile': 5464334666, 'Place': 'kasukabe', 'age': 6, 'category': 'c'}\n",
            "{'unicode': 7, 'name': 'jeffrey', 'mobile': 8827377624, 'Place': 'newyork', 'age': 53, 'category': 'c'}\n",
            "{'unicode': 9, 'name': 'avi', 'mobile': 9876768643, 'Place': 'asgard', 'age': 18, 'category': 'c'}\n",
            "{'unicode': 10, 'name': 'thanos', 'mobile': 7876517763, 'Place': 'chernobyl', 'age': 1065, 'category': 'c'}\n"
          ]
        }
      ]
    },
    {
      "cell_type": "code",
      "source": [
        "Query ={'Place': \"chernobyl\"}\n",
        "\n",
        "rec_1.delete_one(Query)"
      ],
      "metadata": {
        "colab": {
          "base_uri": "https://localhost:8080/"
        },
        "id": "g6KuUtnvvKUx",
        "outputId": "56e404c5-1241-4827-a883-6ceccea7021f"
      },
      "execution_count": null,
      "outputs": [
        {
          "output_type": "execute_result",
          "data": {
            "text/plain": [
              "<pymongo.results.DeleteResult at 0x7f9f707140a0>"
            ]
          },
          "metadata": {},
          "execution_count": 19
        }
      ]
    },
    {
      "cell_type": "code",
      "source": [
        "for i in rec_1.find( { } , { '_id':0 } ):\n",
        "  print(i)"
      ],
      "metadata": {
        "colab": {
          "base_uri": "https://localhost:8080/"
        },
        "id": "EOjYvNp9vOEs",
        "outputId": "e4a44e31-5278-4821-876c-02d32e992112"
      },
      "execution_count": null,
      "outputs": [
        {
          "output_type": "stream",
          "name": "stdout",
          "text": [
            "{'unicode': 0, 'name': 'cathy', 'mobile': 9923457643, 'Place': 'japan', 'age': 30, 'category': 'a'}\n",
            "{'unicode': 1, 'name': 'aldo', 'mobile': 2435356789, 'Place': 'tokyo', 'age': 20, 'category': 'b'}\n",
            "{'unicode': 2, 'name': 'zuriel', 'mobile': 8765435675, 'Place': 'India', 'age': 15, 'category': 'c'}\n",
            "{'unicode': 3, 'name': 'leema', 'mobile': 2387498885, 'Place': 'hirosima', 'age': 31, 'category': 'a'}\n",
            "{'unicode': 4, 'name': 'paul', 'mobile': 8765727282, 'Place': 'nagasaki', 'age': 16, 'category': 'b'}\n",
            "{'unicode': 5, 'name': 'ash', 'mobile': 92242572567, 'Place': 'parrot town', 'age': 18, 'category': 'c'}\n",
            "{'unicode': 6, 'name': 'kenny', 'mobile': 5464334666, 'Place': 'kasukabe', 'age': 6, 'category': 'c'}\n",
            "{'unicode': 7, 'name': 'jeffrey', 'mobile': 8827377624, 'Place': 'newyork', 'age': 53, 'category': 'c'}\n",
            "{'unicode': 8, 'name': 'veena', 'mobile': 5444786589, 'Place': 'queens', 'age': 120, 'category': 'b'}\n",
            "{'unicode': 9, 'name': 'avi', 'mobile': 9876768643, 'Place': 'asgard', 'age': 18, 'category': 'c'}\n"
          ]
        }
      ]
    },
    {
      "cell_type": "code",
      "source": [
        "Query ={\"$and\": [ { 'category': \"c\" }, { 'unicode': 6} ] }\n",
        "\n",
        "rec_1.delete_one(Query)"
      ],
      "metadata": {
        "colab": {
          "base_uri": "https://localhost:8080/"
        },
        "id": "J8IsaL_8vRza",
        "outputId": "e1c69d3f-1c12-42f4-ca11-8f00f53acd90"
      },
      "execution_count": null,
      "outputs": [
        {
          "output_type": "execute_result",
          "data": {
            "text/plain": [
              "<pymongo.results.DeleteResult at 0x7f9f6e853970>"
            ]
          },
          "metadata": {},
          "execution_count": 21
        }
      ]
    },
    {
      "cell_type": "code",
      "source": [
        "for i in rec_1.find():\n",
        "  print(i)"
      ],
      "metadata": {
        "colab": {
          "base_uri": "https://localhost:8080/"
        },
        "id": "9YjZDONBvT7x",
        "outputId": "fd90ff01-4dd6-4a1d-dff2-4eda8bdd5bc6"
      },
      "execution_count": null,
      "outputs": [
        {
          "output_type": "stream",
          "name": "stdout",
          "text": [
            "{'_id': ObjectId('63a34219907e9e9bfb5b496f'), 'unicode': 0, 'name': 'cathy', 'mobile': 9923457643, 'Place': 'japan', 'age': 30, 'category': 'a'}\n",
            "{'_id': ObjectId('63a34219907e9e9bfb5b4970'), 'unicode': 1, 'name': 'aldo', 'mobile': 2435356789, 'Place': 'tokyo', 'age': 20, 'category': 'b'}\n",
            "{'_id': ObjectId('63a34219907e9e9bfb5b4971'), 'unicode': 2, 'name': 'zuriel', 'mobile': 8765435675, 'Place': 'India', 'age': 15, 'category': 'c'}\n",
            "{'_id': ObjectId('63a34219907e9e9bfb5b4972'), 'unicode': 3, 'name': 'leema', 'mobile': 2387498885, 'Place': 'hirosima', 'age': 31, 'category': 'a'}\n",
            "{'_id': ObjectId('63a34219907e9e9bfb5b4973'), 'unicode': 4, 'name': 'paul', 'mobile': 8765727282, 'Place': 'nagasaki', 'age': 16, 'category': 'b'}\n",
            "{'_id': ObjectId('63a34219907e9e9bfb5b4974'), 'unicode': 5, 'name': 'ash', 'mobile': 92242572567, 'Place': 'parrot town', 'age': 18, 'category': 'c'}\n",
            "{'_id': ObjectId('63a34219907e9e9bfb5b4976'), 'unicode': 7, 'name': 'jeffrey', 'mobile': 8827377624, 'Place': 'newyork', 'age': 53, 'category': 'c'}\n",
            "{'_id': ObjectId('63a34219907e9e9bfb5b4977'), 'unicode': 8, 'name': 'veena', 'mobile': 5444786589, 'Place': 'queens', 'age': 120, 'category': 'b'}\n",
            "{'_id': ObjectId('63a34219907e9e9bfb5b4978'), 'unicode': 9, 'name': 'avi', 'mobile': 9876768643, 'Place': 'asgard', 'age': 18, 'category': 'c'}\n"
          ]
        }
      ]
    }
  ]
}